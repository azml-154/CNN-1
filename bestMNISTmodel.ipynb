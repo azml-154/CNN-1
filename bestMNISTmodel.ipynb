{
  "nbformat": 4,
  "nbformat_minor": 0,
  "metadata": {
    "accelerator": "GPU",
    "colab": {
      "name": "bestMNISTmodel.ipynb",
      "provenance": [],
      "collapsed_sections": [],
      "authorship_tag": "ABX9TyOkjOznlgnL1hgSwOG2akrT",
      "include_colab_link": true
    },
    "kernelspec": {
      "display_name": "Python 3",
      "name": "python3"
    },
    "language_info": {
      "name": "python"
    }
  },
  "cells": [
    {
      "cell_type": "markdown",
      "metadata": {
        "id": "view-in-github",
        "colab_type": "text"
      },
      "source": [
        "<a href=\"https://colab.research.google.com/github/azml-154/CNN-1/blob/main/bestMNISTmodel.ipynb\" target=\"_parent\"><img src=\"https://colab.research.google.com/assets/colab-badge.svg\" alt=\"Open In Colab\"/></a>"
      ]
    },
    {
      "cell_type": "code",
      "metadata": {
        "id": "0jAqJ51ABdqj"
      },
      "source": [
        "#import window\n",
        "from keras import models, layers\n",
        "from keras import Input\n",
        "from keras.models import Sequential, load_model, Model\n",
        "from keras import initializers, regularizers, metrics\n",
        "from keras.callbacks import ModelCheckpoint, EarlyStopping\n",
        "from keras.layers import BatchNormalization, Conv2D, Activation, Dense, GlobalAveragePooling2D, MaxPooling2D, ZeroPadding2D, Add, Flatten, Dropout\n",
        "from keras.models import load_model\n",
        "from keras.datasets import mnist\n",
        "from keras.utils import np_utils\n",
        "from time import time\n",
        "from keras.optimizers import SGD\n",
        "from keras.callbacks import ModelCheckpoint, EarlyStopping, ReduceLROnPlateau\n",
        "\n",
        "import cv2\n",
        "import os\n",
        "import matplotlib.pyplot as plt\n",
        "import numpy as np\n",
        "import math\n",
        "import tensorflow as tf"
      ],
      "execution_count": null,
      "outputs": []
    },
    {
      "cell_type": "code",
      "metadata": {
        "id": "zSgQ2iSnikEr"
      },
      "source": [
        "MY_EPOCH = 10000\n",
        "MY_BATCH = 256\n",
        "num_classes = 10"
      ],
      "execution_count": null,
      "outputs": []
    },
    {
      "cell_type": "code",
      "metadata": {
        "colab": {
          "base_uri": "https://localhost:8080/"
        },
        "id": "awFQJnu3gEn_",
        "outputId": "29448fa6-3796-4466-b9da-1bec31fc2727"
      },
      "source": [
        "batch_size = 128\n",
        "num_classes = 10\n",
        "epochs = 12\n",
        "\n",
        "(X_train, Y_train), (X_test, Y_test) = mnist.load_data()\n",
        "\n",
        "input_shape = (28, 28, 1)\n",
        "print(X_train.shape)\n",
        "print(X_test.shape)\n",
        "\n",
        "\n",
        "#이진화 적용 (오츄 알고리즘)\n",
        "for i in range(60000):\n",
        "    _, X_train[i] = cv2.threshold(X_train[i], 0, 255, cv2.THRESH_OTSU)\n",
        "\n",
        "for i in range(10000):\n",
        "    _, X_test[i] = cv2.threshold(X_test[i], 0, 255, cv2.THRESH_OTSU)\n",
        "\n",
        "\n",
        "\n",
        "#rescale\n",
        "X_train = X_train.astype('float32') / 255.\n",
        "X_test = X_test.astype('float32') / 255.\n",
        "\n",
        "#input shape\n",
        "X_train = X_train.reshape(X_train.shape[0], 28, 28, 1)\n",
        "X_test = X_test.reshape(X_test.shape[0], 28, 28, 1)\n",
        "\n",
        "print('x_train shape:', X_train.shape)\n",
        "\n",
        "\n",
        "#one hot encoding\n",
        "Y_train = np_utils.to_categorical(Y_train, num_classes)\n",
        "Y_test = np_utils.to_categorical(Y_test, num_classes)"
      ],
      "execution_count": null,
      "outputs": [
        {
          "output_type": "stream",
          "text": [
            "Downloading data from https://storage.googleapis.com/tensorflow/tf-keras-datasets/mnist.npz\n",
            "11493376/11490434 [==============================] - 0s 0us/step\n",
            "(60000, 28, 28)\n",
            "(10000, 28, 28)\n",
            "x_train shape: (60000, 28, 28, 1)\n"
          ],
          "name": "stdout"
        }
      ]
    },
    {
      "cell_type": "code",
      "metadata": {
        "colab": {
          "base_uri": "https://localhost:8080/"
        },
        "id": "yGzJhv4FjHT7",
        "outputId": "eef239f5-13e2-4cbd-ac93-9ef55bd868d4"
      },
      "source": [
        "model = Sequential()\n",
        "model.add(Conv2D(32, kernel_size=(3, 3), strides=(1, 1), padding='same',\n",
        "                 activation='relu',\n",
        "                 input_shape=input_shape))\n",
        "model.add(Conv2D(64, (3, 3), activation='relu', padding='same'))\n",
        "\n",
        "model.add(MaxPooling2D(pool_size=(2,2), strides=(1, 1)))\n",
        "\n",
        "model.add(Conv2D(128, (3, 3), activation='relu', padding='same'))\n",
        "model.add(Conv2D(128, (3, 3), activation='relu', padding='same'))\n",
        "model.add(MaxPooling2D(pool_size=(2, 2)))\n",
        "model.add(Flatten())\n",
        "\n",
        "\n",
        "model.add(Dense(num_classes, activation='softmax'))\n",
        "model.summary()"
      ],
      "execution_count": null,
      "outputs": [
        {
          "output_type": "stream",
          "text": [
            "Model: \"sequential\"\n",
            "_________________________________________________________________\n",
            "Layer (type)                 Output Shape              Param #   \n",
            "=================================================================\n",
            "conv2d (Conv2D)              (None, 28, 28, 32)        320       \n",
            "_________________________________________________________________\n",
            "conv2d_1 (Conv2D)            (None, 28, 28, 64)        18496     \n",
            "_________________________________________________________________\n",
            "max_pooling2d (MaxPooling2D) (None, 27, 27, 64)        0         \n",
            "_________________________________________________________________\n",
            "conv2d_2 (Conv2D)            (None, 27, 27, 128)       73856     \n",
            "_________________________________________________________________\n",
            "conv2d_3 (Conv2D)            (None, 27, 27, 128)       147584    \n",
            "_________________________________________________________________\n",
            "max_pooling2d_1 (MaxPooling2 (None, 13, 13, 128)       0         \n",
            "_________________________________________________________________\n",
            "flatten (Flatten)            (None, 21632)             0         \n",
            "_________________________________________________________________\n",
            "dense (Dense)                (None, 10)                216330    \n",
            "=================================================================\n",
            "Total params: 456,586\n",
            "Trainable params: 456,586\n",
            "Non-trainable params: 0\n",
            "_________________________________________________________________\n"
          ],
          "name": "stdout"
        }
      ]
    },
    {
      "cell_type": "code",
      "metadata": {
        "id": "lXyc6M-Hjvq0"
      },
      "source": [
        "model.compile(optimizer = 'adam', loss = 'categorical_crossentropy', metrics= ['acc'])\n",
        "\n",
        "model_DIR='./model/'\n",
        "if not os.path.exists(model_DIR):\n",
        "    os.mkdir(model_DIR)\n",
        "\n",
        "path='./model/{epoch:02d}-{val_loss:.4f}.h5'\n",
        "checkpointer = ModelCheckpoint(filepath=path, monitor='val_loss', verbose=1, save_best_only=True)\n",
        "early_stopping_callback = EarlyStopping(monitor='val_loss', patience=30)\n"
      ],
      "execution_count": null,
      "outputs": []
    },
    {
      "cell_type": "markdown",
      "metadata": {
        "id": "UeHuzv50nybx"
      },
      "source": [
        "# 새 섹션"
      ]
    },
    {
      "cell_type": "code",
      "metadata": {
        "colab": {
          "base_uri": "https://localhost:8080/"
        },
        "id": "pfjS8SmymOM4",
        "outputId": "12976ff6-56bc-4b77-8873-cb8f683c3fbc"
      },
      "source": [
        "print('train start')\n",
        "begin = time()\n",
        "model.fit(X_train, Y_train, epochs = MY_EPOCH, batch_size= MY_BATCH, verbose = 1, validation_data=(X_test,Y_test), callbacks=[early_stopping_callback, checkpointer])\n",
        "end = time()\n",
        "print(\"train time : \", end-begin)"
      ],
      "execution_count": null,
      "outputs": [
        {
          "output_type": "stream",
          "text": [
            "train start\n",
            "Epoch 1/10000\n",
            "235/235 [==============================] - 49s 66ms/step - loss: 0.4580 - acc: 0.8524 - val_loss: 0.0525 - val_acc: 0.9836\n",
            "\n",
            "Epoch 00001: val_loss improved from inf to 0.05246, saving model to ./model/01-0.0525.h5\n",
            "Epoch 2/10000\n",
            "235/235 [==============================] - 15s 62ms/step - loss: 0.0552 - acc: 0.9830 - val_loss: 0.0497 - val_acc: 0.9839\n",
            "\n",
            "Epoch 00002: val_loss improved from 0.05246 to 0.04968, saving model to ./model/02-0.0497.h5\n",
            "Epoch 3/10000\n",
            "235/235 [==============================] - 15s 63ms/step - loss: 0.0338 - acc: 0.9893 - val_loss: 0.0412 - val_acc: 0.9870\n",
            "\n",
            "Epoch 00003: val_loss improved from 0.04968 to 0.04124, saving model to ./model/03-0.0412.h5\n",
            "Epoch 4/10000\n",
            "235/235 [==============================] - 15s 64ms/step - loss: 0.0283 - acc: 0.9910 - val_loss: 0.0348 - val_acc: 0.9882\n",
            "\n",
            "Epoch 00004: val_loss improved from 0.04124 to 0.03477, saving model to ./model/04-0.0348.h5\n",
            "Epoch 5/10000\n",
            "235/235 [==============================] - 15s 64ms/step - loss: 0.0197 - acc: 0.9936 - val_loss: 0.0328 - val_acc: 0.9901\n",
            "\n",
            "Epoch 00005: val_loss improved from 0.03477 to 0.03280, saving model to ./model/05-0.0328.h5\n",
            "Epoch 6/10000\n",
            "235/235 [==============================] - 15s 63ms/step - loss: 0.0158 - acc: 0.9949 - val_loss: 0.0366 - val_acc: 0.9900\n",
            "\n",
            "Epoch 00006: val_loss did not improve from 0.03280\n",
            "Epoch 7/10000\n",
            "235/235 [==============================] - 15s 62ms/step - loss: 0.0136 - acc: 0.9956 - val_loss: 0.0379 - val_acc: 0.9896\n",
            "\n",
            "Epoch 00007: val_loss did not improve from 0.03280\n",
            "Epoch 8/10000\n",
            "235/235 [==============================] - 15s 63ms/step - loss: 0.0097 - acc: 0.9967 - val_loss: 0.0377 - val_acc: 0.9896\n",
            "\n",
            "Epoch 00008: val_loss did not improve from 0.03280\n",
            "Epoch 9/10000\n",
            "235/235 [==============================] - 15s 63ms/step - loss: 0.0081 - acc: 0.9974 - val_loss: 0.0489 - val_acc: 0.9887\n",
            "\n",
            "Epoch 00009: val_loss did not improve from 0.03280\n",
            "Epoch 10/10000\n",
            "235/235 [==============================] - 15s 63ms/step - loss: 0.0072 - acc: 0.9975 - val_loss: 0.0473 - val_acc: 0.9895\n",
            "\n",
            "Epoch 00010: val_loss did not improve from 0.03280\n",
            "Epoch 11/10000\n",
            "235/235 [==============================] - 15s 63ms/step - loss: 0.0058 - acc: 0.9979 - val_loss: 0.0545 - val_acc: 0.9882\n",
            "\n",
            "Epoch 00011: val_loss did not improve from 0.03280\n",
            "Epoch 12/10000\n",
            "235/235 [==============================] - 15s 63ms/step - loss: 0.0059 - acc: 0.9981 - val_loss: 0.0546 - val_acc: 0.9884\n",
            "\n",
            "Epoch 00012: val_loss did not improve from 0.03280\n",
            "Epoch 13/10000\n",
            "235/235 [==============================] - 15s 63ms/step - loss: 0.0038 - acc: 0.9988 - val_loss: 0.0694 - val_acc: 0.9880\n",
            "\n",
            "Epoch 00013: val_loss did not improve from 0.03280\n",
            "Epoch 14/10000\n",
            "235/235 [==============================] - 15s 63ms/step - loss: 0.0087 - acc: 0.9971 - val_loss: 0.0582 - val_acc: 0.9897\n",
            "\n",
            "Epoch 00014: val_loss did not improve from 0.03280\n",
            "Epoch 15/10000\n",
            "235/235 [==============================] - 15s 63ms/step - loss: 0.0051 - acc: 0.9983 - val_loss: 0.0563 - val_acc: 0.9893\n",
            "\n",
            "Epoch 00015: val_loss did not improve from 0.03280\n",
            "Epoch 16/10000\n",
            "235/235 [==============================] - 15s 63ms/step - loss: 0.0048 - acc: 0.9985 - val_loss: 0.0543 - val_acc: 0.9897\n",
            "\n",
            "Epoch 00016: val_loss did not improve from 0.03280\n",
            "Epoch 17/10000\n",
            "235/235 [==============================] - 15s 63ms/step - loss: 0.0032 - acc: 0.9990 - val_loss: 0.0544 - val_acc: 0.9903\n",
            "\n",
            "Epoch 00017: val_loss did not improve from 0.03280\n",
            "Epoch 18/10000\n",
            "235/235 [==============================] - 15s 63ms/step - loss: 0.0028 - acc: 0.9990 - val_loss: 0.0638 - val_acc: 0.9899\n",
            "\n",
            "Epoch 00018: val_loss did not improve from 0.03280\n",
            "Epoch 19/10000\n",
            "235/235 [==============================] - 15s 63ms/step - loss: 0.0035 - acc: 0.9987 - val_loss: 0.0599 - val_acc: 0.9901\n",
            "\n",
            "Epoch 00019: val_loss did not improve from 0.03280\n",
            "Epoch 20/10000\n",
            "235/235 [==============================] - 15s 63ms/step - loss: 0.0030 - acc: 0.9990 - val_loss: 0.0629 - val_acc: 0.9886\n",
            "\n",
            "Epoch 00020: val_loss did not improve from 0.03280\n",
            "Epoch 21/10000\n",
            "235/235 [==============================] - 15s 62ms/step - loss: 0.0026 - acc: 0.9992 - val_loss: 0.0583 - val_acc: 0.9906\n",
            "\n",
            "Epoch 00021: val_loss did not improve from 0.03280\n",
            "Epoch 22/10000\n",
            "235/235 [==============================] - 15s 62ms/step - loss: 0.0027 - acc: 0.9990 - val_loss: 0.0633 - val_acc: 0.9888\n",
            "\n",
            "Epoch 00022: val_loss did not improve from 0.03280\n",
            "Epoch 23/10000\n",
            "235/235 [==============================] - 15s 62ms/step - loss: 0.0027 - acc: 0.9992 - val_loss: 0.0639 - val_acc: 0.9905\n",
            "\n",
            "Epoch 00023: val_loss did not improve from 0.03280\n",
            "Epoch 24/10000\n",
            "235/235 [==============================] - 15s 62ms/step - loss: 0.0021 - acc: 0.9993 - val_loss: 0.0558 - val_acc: 0.9903\n",
            "\n",
            "Epoch 00024: val_loss did not improve from 0.03280\n",
            "Epoch 25/10000\n",
            "235/235 [==============================] - 15s 62ms/step - loss: 0.0034 - acc: 0.9989 - val_loss: 0.0639 - val_acc: 0.9895\n",
            "\n",
            "Epoch 00025: val_loss did not improve from 0.03280\n",
            "Epoch 26/10000\n",
            "235/235 [==============================] - 15s 62ms/step - loss: 0.0026 - acc: 0.9993 - val_loss: 0.0666 - val_acc: 0.9900\n",
            "\n",
            "Epoch 00026: val_loss did not improve from 0.03280\n",
            "Epoch 27/10000\n",
            "235/235 [==============================] - 14s 62ms/step - loss: 0.0017 - acc: 0.9995 - val_loss: 0.0826 - val_acc: 0.9877\n",
            "\n",
            "Epoch 00027: val_loss did not improve from 0.03280\n",
            "Epoch 28/10000\n",
            "235/235 [==============================] - 15s 62ms/step - loss: 0.0061 - acc: 0.9977 - val_loss: 0.0694 - val_acc: 0.9884\n",
            "\n",
            "Epoch 00028: val_loss did not improve from 0.03280\n",
            "Epoch 29/10000\n",
            "235/235 [==============================] - 14s 62ms/step - loss: 0.0022 - acc: 0.9992 - val_loss: 0.0735 - val_acc: 0.9885\n",
            "\n",
            "Epoch 00029: val_loss did not improve from 0.03280\n",
            "Epoch 30/10000\n",
            "235/235 [==============================] - 15s 62ms/step - loss: 0.0020 - acc: 0.9992 - val_loss: 0.0767 - val_acc: 0.9884\n",
            "\n",
            "Epoch 00030: val_loss did not improve from 0.03280\n",
            "Epoch 31/10000\n",
            "235/235 [==============================] - 15s 62ms/step - loss: 0.0028 - acc: 0.9989 - val_loss: 0.0657 - val_acc: 0.9895\n",
            "\n",
            "Epoch 00031: val_loss did not improve from 0.03280\n",
            "Epoch 32/10000\n",
            "235/235 [==============================] - 15s 62ms/step - loss: 0.0026 - acc: 0.9991 - val_loss: 0.0807 - val_acc: 0.9880\n",
            "\n",
            "Epoch 00032: val_loss did not improve from 0.03280\n",
            "Epoch 33/10000\n",
            "235/235 [==============================] - 15s 62ms/step - loss: 0.0020 - acc: 0.9993 - val_loss: 0.0716 - val_acc: 0.9897\n",
            "\n",
            "Epoch 00033: val_loss did not improve from 0.03280\n",
            "Epoch 34/10000\n",
            "235/235 [==============================] - 15s 62ms/step - loss: 8.6225e-04 - acc: 0.9997 - val_loss: 0.0790 - val_acc: 0.9883\n",
            "\n",
            "Epoch 00034: val_loss did not improve from 0.03280\n",
            "Epoch 35/10000\n",
            "235/235 [==============================] - 15s 62ms/step - loss: 0.0018 - acc: 0.9994 - val_loss: 0.0623 - val_acc: 0.9891\n",
            "\n",
            "Epoch 00035: val_loss did not improve from 0.03280\n",
            "train time :  548.8588905334473\n"
          ],
          "name": "stdout"
        }
      ]
    },
    {
      "cell_type": "code",
      "metadata": {
        "id": "AB3iBhFEmHCU"
      },
      "source": [
        ""
      ],
      "execution_count": null,
      "outputs": []
    },
    {
      "cell_type": "code",
      "metadata": {
        "id": "rmenwKINjy10"
      },
      "source": [
        ""
      ],
      "execution_count": null,
      "outputs": []
    }
  ]
}